{
 "cells": [
  {
   "cell_type": "markdown",
   "metadata": {
    "ein.tags": [
     "worksheet-0"
    ]
   },
   "source": [
    "# Creating Reusable Analysis Functions"
   ]
  },
  {
   "cell_type": "code",
   "execution_count": 12,
   "metadata": {
    "autoscroll": "json-false",
    "collapsed": false,
    "ein.tags": [
     "worksheet-0"
    ]
   },
   "outputs": [],
   "source": [
    "import pandas as pd\n",
    "import numpy as np\n",
    "import matplotlib.pyplot as plt\n",
    "%matplotlib inline"
   ]
  },
  {
   "cell_type": "code",
   "execution_count": 6,
   "metadata": {
    "autoscroll": "json-false",
    "collapsed": false,
    "ein.tags": [
     "worksheet-0"
    ]
   },
   "outputs": [],
   "source": [
    "filename = './data_files/multi_data.h5'\n",
    "data = pd.read_hdf(filename, 'voltage_recording')"
   ]
  },
  {
   "cell_type": "code",
   "execution_count": 10,
   "metadata": {
    "autoscroll": "json-false",
    "collapsed": false,
    "ein.tags": [
     "worksheet-0"
    ]
   },
   "outputs": [
    {
     "name": "stdout",
     "output_type": "stream",
     "text": [
      "<class 'pandas.core.frame.DataFrame'>\n",
      "MultiIndex: 200000 entries, (Sweep0001, 0) to (Sweep0005, 39999)\n",
      "Data columns (total 4 columns):\n",
      "Time         200000 non-null float64\n",
      "Primary      200000 non-null float64\n",
      "Secondary    200000 non-null float64\n",
      "LED          200000 non-null float64\n",
      "dtypes: float64(4)\n",
      "memory usage: 7.6+ MB\n"
     ]
    }
   ],
   "source": [
    "data.info()"
   ]
  },
  {
   "cell_type": "code",
   "execution_count": 14,
   "metadata": {
    "autoscroll": "json-false",
    "collapsed": false,
    "ein.tags": [
     "worksheet-0"
    ]
   },
   "outputs": [
    {
     "data": {
      "image/png": "[encoded data removed]",
      "text/plain": [
       "<matplotlib.figure.Figure at 0x7f4f9d1ce278>"
      ]
     },
     "metadata": {},
     "output_type": "display_data"
    },
    {
     "data": {
      "text/plain": [
       "[<matplotlib.lines.Line2D at 0x7f4f9d122908>]"
      ]
     },
     "execution_count": 14,
     "metadata": {},
     "output_type": "execute_result"
    }
   ],
   "source": [
    "plt.figure(figsize=(10,8))\n",
    "x = data['Time'].ix['Sweep0001']\n",
    "y = data['Primary'].ix['Sweep0001']\n",
    "\n",
    "plt.plot(x, y)"
   ]
  },
  {
   "cell_type": "code",
   "execution_count": 20,
   "metadata": {
    "autoscroll": "json-false",
    "collapsed": false,
    "ein.tags": [
     "worksheet-0"
    ]
   },
   "outputs": [],
   "source": [
    "def baseline(df, start_time, end_time):\n",
    "    \"\"\"Subtracts from entire data column average of subset of data column\n",
    "    defined by start and end times.\n",
    "\n",
    "    Input Parameters\n",
    "    ----------------\n",
    "    df: data as pandas dataframe\n",
    "        should contain Time and Primary columns\n",
    "    start_time: positive number (seconds)\n",
    "        designates beginning of region over which to average\n",
    "    end_time: positive number (seconds)\n",
    "        designates end of region over which to average\n",
    "\n",
    "    Return\n",
    "    ------\n",
    "    df: dataframe with modified Primary column\n",
    "    \"\"\""
   ]
  },
  {
   "cell_type": "code",
   "execution_count": 0,
   "metadata": {
    "autoscroll": "json-false",
    "collapsed": false,
    "ein.tags": [
     "worksheet-0"
    ]
   },
   "outputs": [],
   "source": [
    "sweep1 = data.ix['Sweep0001'].copy()\n",
    "sweep1 = baseline(sweep1, 1.5, 2.5)\n",
    "\n",
    "plt.plot(sweep1.Time, sweep1.Primary)"
   ]
  },
  {
   "cell_type": "code",
   "execution_count": 0,
   "metadata": {
    "autoscroll": "json-false",
    "collapsed": false,
    "ein.tags": [
     "worksheet-0"
    ]
   },
   "outputs": [],
   "source": [
    "def find_peak(df, start_time, end_time, sign=\"min\"):\n",
    "    \"\"\"Returns min (or max) of data subset as a dataframe\n",
    "\n",
    "    Input Parameters\n",
    "    ----------------\n",
    "    df: data as pandas dataframe\n",
    "        should contain Time and Primary columns\n",
    "    start_time: positive number (seconds)\n",
    "        designates beginning of the epoch in which the event occurs\n",
    "    end_time: positive number (seconds)\n",
    "        designates end of the epoch in which the event occurs\n",
    "    sign: string (either 'min' or 'max')\n",
    "        indicates direction of event (min = neg going, max = pos going)\n",
    "\n",
    "    Return\n",
    "    -------\n",
    "    peak_df: dataframe of Peak Amp and Peak Time\n",
    "    \"\"\""
   ]
  },
  {
   "cell_type": "code",
   "execution_count": 0,
   "metadata": {
    "autoscroll": "json-false",
    "collapsed": false,
    "ein.tags": [
     "worksheet-0"
    ]
   },
   "outputs": [],
   "source": [
    "find_peak(sweep1, 3.0, 3.0)"
   ]
  },
  {
   "cell_type": "code",
   "execution_count": 0,
   "metadata": {
    "autoscroll": "json-false",
    "collapsed": false,
    "ein.tags": [
     "worksheet-0"
    ]
   },
   "outputs": [],
   "source": [
    "def calc_ppr(df, bsl_start, bsl_end, start_time, end_time, stim_interval,\n",
    "             sign=\"min\"):\n",
    "    \"\"\"Calculate paired-pulse ratio from current peaks\n",
    "\n",
    "    Input Parameters\n",
    "    -----------------\n",
    "    df: data as pandas dataframe\n",
    "        should contain Time and Primary columns\n",
    "    bsl_start: positive number (time)\n",
    "        designates beginning of epoch to use to baseline data\n",
    "    bsl_end: positive number (time)\n",
    "        designates end of epoch (time) to use to baseline data\n",
    "    start_time: positive number (time)\n",
    "        designates beginning of the epoch in which the event occurs\n",
    "    end_time: positive number (time)\n",
    "        designates end of the epoch in which the event occurs\n",
    "    stim_interval: positive number (seconds)\n",
    "        time between first stimulus and second stimulus\n",
    "    sign: string (either 'min' or 'max')\n",
    "        indicates direction of event (min = neg going, max = pos going)\n",
    "\n",
    "    Return\n",
    "    ------\n",
    "    ppr_df: dataframe containing Peak 1 ampltiude, Peak 2 amplitude, and PPR\n",
    "    \"\"\""
   ]
  },
  {
   "cell_type": "code",
   "execution_count": 0,
   "metadata": {
    "autoscroll": "json-false",
    "collapsed": false,
    "ein.tags": [
     "worksheet-0"
    ]
   },
   "outputs": [],
   "source": [
    "# please note, there is no second stimulus here, so your second peak should be close to 0\n",
    "# use a stimulus interval of 0.05 seconds\n",
    "sweep2 = data.ix['Sweep0002'].copy()\n",
    "\n",
    "calc_ppr(sweep2, 1.5, 2.5, 3.0, 3.5, 0.05)"
   ]
  },
  {
   "cell_type": "markdown",
   "metadata": {
    "ein.tags": [
     "worksheet-0"
    ]
   },
   "source": [
    "## Using functions outside of a jupyter notebook\n",
    "\n",
    "* Save python files with the .py file extension\n",
    "* Edit them as simply text files\n",
    "* Can then import those functions (in other files, a python repl, etc.)\n",
    "* Allows us to organize functions into conceptually similar groups\n",
    "\n",
    "We will talk more about import functions we have written and writing analysis scripts during another session."
   ]
  }
 ],
 "metadata": {
  "kernelspec": {
   "display_name": "Python 3",
   "language": "python",
   "name": "python3"
  },
  "language_info": {
   "codemirror_mode": {
    "name": "ipython",
    "version": 3
   },
   "file_extension": ".py",
   "mimetype": "text/x-python",
   "name": "python",
   "nbconvert_exporter": "python",
   "pygments_lexer": "ipython3",
   "version": "3.5.1"
  }
 },
 "nbformat": 4,
 "nbformat_minor": 0
}
