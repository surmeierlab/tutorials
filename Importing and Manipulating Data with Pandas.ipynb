{
 "cells": [
  {
   "cell_type": "markdown",
   "metadata": {},
   "source": [
    "# Importing and Manipulating Data\n",
    "\n",
    "### Pandas\n",
    "- providing high-performance, easy-to-use data structures and data analysis tools for the Python programming language\n",
    "- Pandas DataFrame - multidimensional tabular data structure"
   ]
  },
  {
   "cell_type": "code",
   "execution_count": 2,
   "metadata": {
    "collapsed": false
   },
   "outputs": [
    {
     "data": {
      "text/html": [
       "<div>\n",
       "<table border=\"1\" class=\"dataframe\">\n",
       "  <thead>\n",
       "    <tr style=\"text-align: right;\">\n",
       "      <th></th>\n",
       "      <th>zero</th>\n",
       "      <th>one</th>\n",
       "      <th>two</th>\n",
       "      <th>three</th>\n",
       "      <th>four</th>\n",
       "    </tr>\n",
       "  </thead>\n",
       "  <tbody>\n",
       "    <tr>\n",
       "      <th>0</th>\n",
       "      <td>0</td>\n",
       "      <td>1</td>\n",
       "      <td>2</td>\n",
       "      <td>3</td>\n",
       "      <td>4</td>\n",
       "    </tr>\n",
       "    <tr>\n",
       "      <th>1</th>\n",
       "      <td>0</td>\n",
       "      <td>1</td>\n",
       "      <td>2</td>\n",
       "      <td>3</td>\n",
       "      <td>4</td>\n",
       "    </tr>\n",
       "    <tr>\n",
       "      <th>2</th>\n",
       "      <td>0</td>\n",
       "      <td>1</td>\n",
       "      <td>2</td>\n",
       "      <td>3</td>\n",
       "      <td>4</td>\n",
       "    </tr>\n",
       "    <tr>\n",
       "      <th>3</th>\n",
       "      <td>0</td>\n",
       "      <td>1</td>\n",
       "      <td>2</td>\n",
       "      <td>3</td>\n",
       "      <td>4</td>\n",
       "    </tr>\n",
       "    <tr>\n",
       "      <th>4</th>\n",
       "      <td>0</td>\n",
       "      <td>1</td>\n",
       "      <td>2</td>\n",
       "      <td>3</td>\n",
       "      <td>4</td>\n",
       "    </tr>\n",
       "  </tbody>\n",
       "</table>\n",
       "</div>"
      ],
      "text/plain": [
       "   zero  one  two  three  four\n",
       "0     0    1    2      3     4\n",
       "1     0    1    2      3     4\n",
       "2     0    1    2      3     4\n",
       "3     0    1    2      3     4\n",
       "4     0    1    2      3     4"
      ]
     },
     "execution_count": 2,
     "metadata": {},
     "output_type": "execute_result"
    }
   ],
   "source": [
    "import pandas as pd\n",
    "\n",
    "data = [list(range(5)) for i in range(5)]\n",
    "columns = ['zero', 'one', 'two', 'three', 'four']\n",
    "\n",
    "df = pd.DataFrame(data, columns=columns)\n",
    "df"
   ]
  },
  {
   "cell_type": "code",
   "execution_count": 6,
   "metadata": {
    "collapsed": false
   },
   "outputs": [
    {
     "data": {
      "text/plain": [
       "0    0\n",
       "1    0\n",
       "2    0\n",
       "3    0\n",
       "4    0\n",
       "Name: zero, dtype: int64"
      ]
     },
     "execution_count": 6,
     "metadata": {},
     "output_type": "execute_result"
    }
   ],
   "source": [
    "df.zero"
   ]
  },
  {
   "cell_type": "code",
   "execution_count": 7,
   "metadata": {
    "collapsed": false
   },
   "outputs": [
    {
     "data": {
      "text/plain": [
       "0    1\n",
       "1    1\n",
       "2    1\n",
       "3    1\n",
       "4    1\n",
       "Name: one, dtype: int64"
      ]
     },
     "execution_count": 7,
     "metadata": {},
     "output_type": "execute_result"
    }
   ],
   "source": [
    "df['one']"
   ]
  },
  {
   "cell_type": "code",
   "execution_count": 14,
   "metadata": {
    "collapsed": false
   },
   "outputs": [
    {
     "data": {
      "text/html": [
       "<div>\n",
       "<table border=\"1\" class=\"dataframe\">\n",
       "  <thead>\n",
       "    <tr style=\"text-align: right;\">\n",
       "      <th></th>\n",
       "      <th>broccoli</th>\n",
       "      <th>carrots</th>\n",
       "      <th>celery</th>\n",
       "    </tr>\n",
       "  </thead>\n",
       "  <tbody>\n",
       "    <tr>\n",
       "      <th>Dan</th>\n",
       "      <td>2</td>\n",
       "      <td>1</td>\n",
       "      <td>3</td>\n",
       "    </tr>\n",
       "    <tr>\n",
       "      <th>Sally</th>\n",
       "      <td>8</td>\n",
       "      <td>3</td>\n",
       "      <td>1</td>\n",
       "    </tr>\n",
       "    <tr>\n",
       "      <th>Mike</th>\n",
       "      <td>1</td>\n",
       "      <td>5</td>\n",
       "      <td>2</td>\n",
       "    </tr>\n",
       "  </tbody>\n",
       "</table>\n",
       "</div>"
      ],
      "text/plain": [
       "       broccoli  carrots  celery\n",
       "Dan           2        1       3\n",
       "Sally         8        3       1\n",
       "Mike          1        5       2"
      ]
     },
     "execution_count": 14,
     "metadata": {},
     "output_type": "execute_result"
    }
   ],
   "source": [
    "veggies = dict([(\"carrots\", [1, 3, 5]), (\"broccoli\", [2, 8, 1]), (\"celery\", [3, 1, 2])])\n",
    "veggie_df = pd.DataFrame(veggies, index=['Dan', 'Sally', 'Mike'])\n",
    "veggie_df"
   ]
  },
  {
   "cell_type": "markdown",
   "metadata": {},
   "source": [
    "#### Opening data files\n",
    "\n",
    "For the most part, you will be generating dataframes by opening raw data files"
   ]
  },
  {
   "cell_type": "code",
   "execution_count": 3,
   "metadata": {
    "collapsed": false
   },
   "outputs": [
    {
     "data": {
      "text/html": [
       "<div>\n",
       "<table border=\"1\" class=\"dataframe\">\n",
       "  <thead>\n",
       "    <tr style=\"text-align: right;\">\n",
       "      <th></th>\n",
       "      <th>Time</th>\n",
       "      <th>Primary</th>\n",
       "      <th>Secondary</th>\n",
       "      <th>LED</th>\n",
       "    </tr>\n",
       "  </thead>\n",
       "  <tbody>\n",
       "    <tr>\n",
       "      <th>0</th>\n",
       "      <td>0.0000</td>\n",
       "      <td>-51.513672</td>\n",
       "      <td>-40.344238</td>\n",
       "      <td>-0.000305</td>\n",
       "    </tr>\n",
       "    <tr>\n",
       "      <th>1</th>\n",
       "      <td>0.0001</td>\n",
       "      <td>-60.058594</td>\n",
       "      <td>-40.313721</td>\n",
       "      <td>0.000000</td>\n",
       "    </tr>\n",
       "    <tr>\n",
       "      <th>2</th>\n",
       "      <td>0.0002</td>\n",
       "      <td>-57.861328</td>\n",
       "      <td>-40.344238</td>\n",
       "      <td>0.000000</td>\n",
       "    </tr>\n",
       "    <tr>\n",
       "      <th>3</th>\n",
       "      <td>0.0003</td>\n",
       "      <td>-57.739258</td>\n",
       "      <td>-40.405273</td>\n",
       "      <td>0.000305</td>\n",
       "    </tr>\n",
       "    <tr>\n",
       "      <th>4</th>\n",
       "      <td>0.0004</td>\n",
       "      <td>-58.227539</td>\n",
       "      <td>-40.313721</td>\n",
       "      <td>-0.000305</td>\n",
       "    </tr>\n",
       "  </tbody>\n",
       "</table>\n",
       "</div>"
      ],
      "text/plain": [
       "     Time    Primary  Secondary       LED\n",
       "0  0.0000 -51.513672 -40.344238 -0.000305\n",
       "1  0.0001 -60.058594 -40.313721  0.000000\n",
       "2  0.0002 -57.861328 -40.344238  0.000000\n",
       "3  0.0003 -57.739258 -40.405273  0.000305\n",
       "4  0.0004 -58.227539 -40.313721 -0.000305"
      ]
     },
     "execution_count": 3,
     "metadata": {},
     "output_type": "execute_result"
    }
   ],
   "source": [
    "data_file = \"./data.csv\"\n",
    "df = pd.read_csv(data_file)\n",
    "df.head()"
   ]
  },
  {
   "cell_type": "code",
   "execution_count": 5,
   "metadata": {
    "collapsed": false
   },
   "outputs": [
    {
     "data": {
      "text/plain": [
       "0        0.0000\n",
       "1        0.0001\n",
       "2        0.0002\n",
       "3        0.0003\n",
       "4        0.0004\n",
       "5        0.0005\n",
       "6        0.0006\n",
       "7        0.0007\n",
       "8        0.0008\n",
       "9        0.0009\n",
       "10       0.0010\n",
       "11       0.0011\n",
       "12       0.0012\n",
       "13       0.0013\n",
       "14       0.0014\n",
       "15       0.0015\n",
       "16       0.0016\n",
       "17       0.0017\n",
       "18       0.0018\n",
       "19       0.0019\n",
       "20       0.0020\n",
       "21       0.0021\n",
       "22       0.0022\n",
       "23       0.0023\n",
       "24       0.0024\n",
       "25       0.0025\n",
       "26       0.0026\n",
       "27       0.0027\n",
       "28       0.0028\n",
       "29       0.0029\n",
       "          ...  \n",
       "39970    3.9970\n",
       "39971    3.9971\n",
       "39972    3.9972\n",
       "39973    3.9973\n",
       "39974    3.9974\n",
       "39975    3.9975\n",
       "39976    3.9976\n",
       "39977    3.9977\n",
       "39978    3.9978\n",
       "39979    3.9979\n",
       "39980    3.9980\n",
       "39981    3.9981\n",
       "39982    3.9982\n",
       "39983    3.9983\n",
       "39984    3.9984\n",
       "39985    3.9985\n",
       "39986    3.9986\n",
       "39987    3.9987\n",
       "39988    3.9988\n",
       "39989    3.9989\n",
       "39990    3.9990\n",
       "39991    3.9991\n",
       "39992    3.9992\n",
       "39993    3.9993\n",
       "39994    3.9994\n",
       "39995    3.9995\n",
       "39996    3.9996\n",
       "39997    3.9997\n",
       "39998    3.9998\n",
       "39999    3.9999\n",
       "Name: Time, dtype: float64"
      ]
     },
     "execution_count": 5,
     "metadata": {},
     "output_type": "execute_result"
    }
   ],
   "source": [
    "df['Time']"
   ]
  },
  {
   "cell_type": "markdown",
   "metadata": {},
   "source": [
    "** \"Fancy\" Indexing / Slicing **"
   ]
  },
  {
   "cell_type": "markdown",
   "metadata": {},
   "source": [
    "We can using boolean expressions to select certain parts of our data"
   ]
  },
  {
   "cell_type": "code",
   "execution_count": 6,
   "metadata": {
    "collapsed": false
   },
   "outputs": [
    {
     "data": {
      "text/plain": [
       "0        False\n",
       "1        False\n",
       "2        False\n",
       "3        False\n",
       "4        False\n",
       "5        False\n",
       "6        False\n",
       "7        False\n",
       "8        False\n",
       "9        False\n",
       "10       False\n",
       "11       False\n",
       "12       False\n",
       "13       False\n",
       "14       False\n",
       "15       False\n",
       "16       False\n",
       "17       False\n",
       "18       False\n",
       "19       False\n",
       "20       False\n",
       "21       False\n",
       "22       False\n",
       "23       False\n",
       "24       False\n",
       "25       False\n",
       "26       False\n",
       "27       False\n",
       "28       False\n",
       "29       False\n",
       "         ...  \n",
       "39970     True\n",
       "39971     True\n",
       "39972     True\n",
       "39973     True\n",
       "39974     True\n",
       "39975     True\n",
       "39976     True\n",
       "39977     True\n",
       "39978     True\n",
       "39979     True\n",
       "39980     True\n",
       "39981     True\n",
       "39982     True\n",
       "39983     True\n",
       "39984     True\n",
       "39985     True\n",
       "39986     True\n",
       "39987     True\n",
       "39988     True\n",
       "39989     True\n",
       "39990     True\n",
       "39991     True\n",
       "39992     True\n",
       "39993     True\n",
       "39994     True\n",
       "39995     True\n",
       "39996     True\n",
       "39997     True\n",
       "39998     True\n",
       "39999     True\n",
       "Name: Time, dtype: bool"
      ]
     },
     "execution_count": 6,
     "metadata": {},
     "output_type": "execute_result"
    }
   ],
   "source": [
    "df[\"Time\"] >= 2.5"
   ]
  },
  {
   "cell_type": "code",
   "execution_count": 8,
   "metadata": {
    "collapsed": false
   },
   "outputs": [
    {
     "data": {
      "text/html": [
       "<div>\n",
       "<table border=\"1\" class=\"dataframe\">\n",
       "  <thead>\n",
       "    <tr style=\"text-align: right;\">\n",
       "      <th></th>\n",
       "      <th>Time</th>\n",
       "      <th>Primary</th>\n",
       "      <th>Secondary</th>\n",
       "      <th>LED</th>\n",
       "    </tr>\n",
       "  </thead>\n",
       "  <tbody>\n",
       "    <tr>\n",
       "      <th>0</th>\n",
       "      <td>0.0000</td>\n",
       "      <td>-51.513672</td>\n",
       "      <td>-40.344238</td>\n",
       "      <td>-0.000305</td>\n",
       "    </tr>\n",
       "    <tr>\n",
       "      <th>1</th>\n",
       "      <td>0.0001</td>\n",
       "      <td>-60.058594</td>\n",
       "      <td>-40.313721</td>\n",
       "      <td>0.000000</td>\n",
       "    </tr>\n",
       "    <tr>\n",
       "      <th>2</th>\n",
       "      <td>0.0002</td>\n",
       "      <td>-57.861328</td>\n",
       "      <td>-40.344238</td>\n",
       "      <td>0.000000</td>\n",
       "    </tr>\n",
       "    <tr>\n",
       "      <th>3</th>\n",
       "      <td>0.0003</td>\n",
       "      <td>-57.739258</td>\n",
       "      <td>-40.405273</td>\n",
       "      <td>0.000305</td>\n",
       "    </tr>\n",
       "    <tr>\n",
       "      <th>4</th>\n",
       "      <td>0.0004</td>\n",
       "      <td>-58.227539</td>\n",
       "      <td>-40.313721</td>\n",
       "      <td>-0.000305</td>\n",
       "    </tr>\n",
       "  </tbody>\n",
       "</table>\n",
       "</div>"
      ],
      "text/plain": [
       "     Time    Primary  Secondary       LED\n",
       "0  0.0000 -51.513672 -40.344238 -0.000305\n",
       "1  0.0001 -60.058594 -40.313721  0.000000\n",
       "2  0.0002 -57.861328 -40.344238  0.000000\n",
       "3  0.0003 -57.739258 -40.405273  0.000305\n",
       "4  0.0004 -58.227539 -40.313721 -0.000305"
      ]
     },
     "execution_count": 8,
     "metadata": {},
     "output_type": "execute_result"
    }
   ],
   "source": [
    "df[df.Time <= 2.5].head()"
   ]
  },
  {
   "cell_type": "code",
   "execution_count": 9,
   "metadata": {
    "collapsed": false
   },
   "outputs": [
    {
     "data": {
      "text/html": [
       "<div>\n",
       "<table border=\"1\" class=\"dataframe\">\n",
       "  <thead>\n",
       "    <tr style=\"text-align: right;\">\n",
       "      <th></th>\n",
       "      <th>Time</th>\n",
       "      <th>Primary</th>\n",
       "      <th>Secondary</th>\n",
       "      <th>LED</th>\n",
       "    </tr>\n",
       "  </thead>\n",
       "  <tbody>\n",
       "    <tr>\n",
       "      <th>24996</th>\n",
       "      <td>2.4996</td>\n",
       "      <td>-58.471680</td>\n",
       "      <td>-40.222168</td>\n",
       "      <td>0.000610</td>\n",
       "    </tr>\n",
       "    <tr>\n",
       "      <th>24997</th>\n",
       "      <td>2.4997</td>\n",
       "      <td>-58.105469</td>\n",
       "      <td>-40.283203</td>\n",
       "      <td>0.000000</td>\n",
       "    </tr>\n",
       "    <tr>\n",
       "      <th>24998</th>\n",
       "      <td>2.4998</td>\n",
       "      <td>-56.030273</td>\n",
       "      <td>-40.313721</td>\n",
       "      <td>-0.000305</td>\n",
       "    </tr>\n",
       "    <tr>\n",
       "      <th>24999</th>\n",
       "      <td>2.4999</td>\n",
       "      <td>-60.913086</td>\n",
       "      <td>-40.313721</td>\n",
       "      <td>0.000305</td>\n",
       "    </tr>\n",
       "    <tr>\n",
       "      <th>25000</th>\n",
       "      <td>2.5000</td>\n",
       "      <td>-61.279297</td>\n",
       "      <td>-40.405273</td>\n",
       "      <td>0.000000</td>\n",
       "    </tr>\n",
       "  </tbody>\n",
       "</table>\n",
       "</div>"
      ],
      "text/plain": [
       "         Time    Primary  Secondary       LED\n",
       "24996  2.4996 -58.471680 -40.222168  0.000610\n",
       "24997  2.4997 -58.105469 -40.283203  0.000000\n",
       "24998  2.4998 -56.030273 -40.313721 -0.000305\n",
       "24999  2.4999 -60.913086 -40.313721  0.000305\n",
       "25000  2.5000 -61.279297 -40.405273  0.000000"
      ]
     },
     "execution_count": 9,
     "metadata": {},
     "output_type": "execute_result"
    }
   ],
   "source": [
    "df[df.Time <= 2.5].tail()"
   ]
  },
  {
   "cell_type": "code",
   "execution_count": 10,
   "metadata": {
    "collapsed": false
   },
   "outputs": [
    {
     "data": {
      "text/html": [
       "<div>\n",
       "<table border=\"1\" class=\"dataframe\">\n",
       "  <thead>\n",
       "    <tr style=\"text-align: right;\">\n",
       "      <th></th>\n",
       "      <th>Time</th>\n",
       "      <th>Primary</th>\n",
       "      <th>Secondary</th>\n",
       "      <th>LED</th>\n",
       "    </tr>\n",
       "  </thead>\n",
       "  <tbody>\n",
       "    <tr>\n",
       "      <th>25000</th>\n",
       "      <td>2.5000</td>\n",
       "      <td>-61.279297</td>\n",
       "      <td>-40.405273</td>\n",
       "      <td>0.000000</td>\n",
       "    </tr>\n",
       "    <tr>\n",
       "      <th>25001</th>\n",
       "      <td>2.5001</td>\n",
       "      <td>-55.053711</td>\n",
       "      <td>-40.374756</td>\n",
       "      <td>-0.000305</td>\n",
       "    </tr>\n",
       "    <tr>\n",
       "      <th>25002</th>\n",
       "      <td>2.5002</td>\n",
       "      <td>-53.100586</td>\n",
       "      <td>-40.344238</td>\n",
       "      <td>0.000000</td>\n",
       "    </tr>\n",
       "    <tr>\n",
       "      <th>25003</th>\n",
       "      <td>2.5003</td>\n",
       "      <td>-57.495117</td>\n",
       "      <td>-40.374756</td>\n",
       "      <td>0.000000</td>\n",
       "    </tr>\n",
       "    <tr>\n",
       "      <th>25004</th>\n",
       "      <td>2.5004</td>\n",
       "      <td>-59.082031</td>\n",
       "      <td>-40.252686</td>\n",
       "      <td>0.000000</td>\n",
       "    </tr>\n",
       "    <tr>\n",
       "      <th>25005</th>\n",
       "      <td>2.5005</td>\n",
       "      <td>-58.959961</td>\n",
       "      <td>-40.222168</td>\n",
       "      <td>-0.000305</td>\n",
       "    </tr>\n",
       "    <tr>\n",
       "      <th>25006</th>\n",
       "      <td>2.5006</td>\n",
       "      <td>-56.884766</td>\n",
       "      <td>-40.374756</td>\n",
       "      <td>0.000000</td>\n",
       "    </tr>\n",
       "    <tr>\n",
       "      <th>25007</th>\n",
       "      <td>2.5007</td>\n",
       "      <td>-59.204102</td>\n",
       "      <td>-40.435791</td>\n",
       "      <td>-0.000305</td>\n",
       "    </tr>\n",
       "    <tr>\n",
       "      <th>25008</th>\n",
       "      <td>2.5008</td>\n",
       "      <td>-57.250977</td>\n",
       "      <td>-40.344238</td>\n",
       "      <td>0.000305</td>\n",
       "    </tr>\n",
       "    <tr>\n",
       "      <th>25009</th>\n",
       "      <td>2.5009</td>\n",
       "      <td>-55.786133</td>\n",
       "      <td>-40.405273</td>\n",
       "      <td>0.000000</td>\n",
       "    </tr>\n",
       "    <tr>\n",
       "      <th>25010</th>\n",
       "      <td>2.5010</td>\n",
       "      <td>-56.274414</td>\n",
       "      <td>-40.313721</td>\n",
       "      <td>0.000000</td>\n",
       "    </tr>\n",
       "    <tr>\n",
       "      <th>25011</th>\n",
       "      <td>2.5011</td>\n",
       "      <td>-56.030273</td>\n",
       "      <td>-40.283203</td>\n",
       "      <td>0.000000</td>\n",
       "    </tr>\n",
       "    <tr>\n",
       "      <th>25012</th>\n",
       "      <td>2.5012</td>\n",
       "      <td>-55.664062</td>\n",
       "      <td>-40.374756</td>\n",
       "      <td>-0.000610</td>\n",
       "    </tr>\n",
       "    <tr>\n",
       "      <th>25013</th>\n",
       "      <td>2.5013</td>\n",
       "      <td>-55.175781</td>\n",
       "      <td>-40.374756</td>\n",
       "      <td>0.000305</td>\n",
       "    </tr>\n",
       "    <tr>\n",
       "      <th>25014</th>\n",
       "      <td>2.5014</td>\n",
       "      <td>-58.227539</td>\n",
       "      <td>-40.344238</td>\n",
       "      <td>0.000305</td>\n",
       "    </tr>\n",
       "    <tr>\n",
       "      <th>25015</th>\n",
       "      <td>2.5015</td>\n",
       "      <td>-58.105469</td>\n",
       "      <td>-40.344238</td>\n",
       "      <td>-0.000305</td>\n",
       "    </tr>\n",
       "    <tr>\n",
       "      <th>25016</th>\n",
       "      <td>2.5016</td>\n",
       "      <td>-57.250977</td>\n",
       "      <td>-40.252686</td>\n",
       "      <td>0.000305</td>\n",
       "    </tr>\n",
       "    <tr>\n",
       "      <th>25017</th>\n",
       "      <td>2.5017</td>\n",
       "      <td>-56.518555</td>\n",
       "      <td>-40.283203</td>\n",
       "      <td>0.000305</td>\n",
       "    </tr>\n",
       "    <tr>\n",
       "      <th>25018</th>\n",
       "      <td>2.5018</td>\n",
       "      <td>-57.373047</td>\n",
       "      <td>-40.405273</td>\n",
       "      <td>0.000000</td>\n",
       "    </tr>\n",
       "    <tr>\n",
       "      <th>25019</th>\n",
       "      <td>2.5019</td>\n",
       "      <td>-56.762695</td>\n",
       "      <td>-40.435791</td>\n",
       "      <td>0.000305</td>\n",
       "    </tr>\n",
       "    <tr>\n",
       "      <th>25020</th>\n",
       "      <td>2.5020</td>\n",
       "      <td>-62.255859</td>\n",
       "      <td>-40.374756</td>\n",
       "      <td>0.000000</td>\n",
       "    </tr>\n",
       "    <tr>\n",
       "      <th>25021</th>\n",
       "      <td>2.5021</td>\n",
       "      <td>-64.453125</td>\n",
       "      <td>-40.344238</td>\n",
       "      <td>-0.000305</td>\n",
       "    </tr>\n",
       "    <tr>\n",
       "      <th>25022</th>\n",
       "      <td>2.5022</td>\n",
       "      <td>-50.659180</td>\n",
       "      <td>-40.252686</td>\n",
       "      <td>0.000000</td>\n",
       "    </tr>\n",
       "    <tr>\n",
       "      <th>25023</th>\n",
       "      <td>2.5023</td>\n",
       "      <td>-58.715820</td>\n",
       "      <td>-40.405273</td>\n",
       "      <td>-0.000305</td>\n",
       "    </tr>\n",
       "    <tr>\n",
       "      <th>25024</th>\n",
       "      <td>2.5024</td>\n",
       "      <td>-53.955078</td>\n",
       "      <td>-40.374756</td>\n",
       "      <td>-0.000305</td>\n",
       "    </tr>\n",
       "    <tr>\n",
       "      <th>25025</th>\n",
       "      <td>2.5025</td>\n",
       "      <td>-57.006836</td>\n",
       "      <td>-40.344238</td>\n",
       "      <td>0.000000</td>\n",
       "    </tr>\n",
       "    <tr>\n",
       "      <th>25026</th>\n",
       "      <td>2.5026</td>\n",
       "      <td>-55.664062</td>\n",
       "      <td>-40.435791</td>\n",
       "      <td>0.000610</td>\n",
       "    </tr>\n",
       "    <tr>\n",
       "      <th>25027</th>\n",
       "      <td>2.5027</td>\n",
       "      <td>-55.175781</td>\n",
       "      <td>-40.313721</td>\n",
       "      <td>-0.000305</td>\n",
       "    </tr>\n",
       "    <tr>\n",
       "      <th>25028</th>\n",
       "      <td>2.5028</td>\n",
       "      <td>-53.100586</td>\n",
       "      <td>-40.283203</td>\n",
       "      <td>-0.000305</td>\n",
       "    </tr>\n",
       "    <tr>\n",
       "      <th>25029</th>\n",
       "      <td>2.5029</td>\n",
       "      <td>-55.297852</td>\n",
       "      <td>-40.283203</td>\n",
       "      <td>0.000000</td>\n",
       "    </tr>\n",
       "    <tr>\n",
       "      <th>...</th>\n",
       "      <td>...</td>\n",
       "      <td>...</td>\n",
       "      <td>...</td>\n",
       "      <td>...</td>\n",
       "    </tr>\n",
       "    <tr>\n",
       "      <th>34971</th>\n",
       "      <td>3.4971</td>\n",
       "      <td>-61.889648</td>\n",
       "      <td>-40.344238</td>\n",
       "      <td>0.000610</td>\n",
       "    </tr>\n",
       "    <tr>\n",
       "      <th>34972</th>\n",
       "      <td>3.4972</td>\n",
       "      <td>-61.279297</td>\n",
       "      <td>-40.313721</td>\n",
       "      <td>-0.000305</td>\n",
       "    </tr>\n",
       "    <tr>\n",
       "      <th>34973</th>\n",
       "      <td>3.4973</td>\n",
       "      <td>-56.396484</td>\n",
       "      <td>-40.313721</td>\n",
       "      <td>0.000000</td>\n",
       "    </tr>\n",
       "    <tr>\n",
       "      <th>34974</th>\n",
       "      <td>3.4974</td>\n",
       "      <td>-62.133789</td>\n",
       "      <td>-40.344238</td>\n",
       "      <td>0.000000</td>\n",
       "    </tr>\n",
       "    <tr>\n",
       "      <th>34975</th>\n",
       "      <td>3.4975</td>\n",
       "      <td>-62.377930</td>\n",
       "      <td>-40.252686</td>\n",
       "      <td>-0.000305</td>\n",
       "    </tr>\n",
       "    <tr>\n",
       "      <th>34976</th>\n",
       "      <td>3.4976</td>\n",
       "      <td>-64.331055</td>\n",
       "      <td>-40.313721</td>\n",
       "      <td>-0.000305</td>\n",
       "    </tr>\n",
       "    <tr>\n",
       "      <th>34977</th>\n",
       "      <td>3.4977</td>\n",
       "      <td>-55.541992</td>\n",
       "      <td>-40.313721</td>\n",
       "      <td>-0.000305</td>\n",
       "    </tr>\n",
       "    <tr>\n",
       "      <th>34978</th>\n",
       "      <td>3.4978</td>\n",
       "      <td>-54.565430</td>\n",
       "      <td>-40.405273</td>\n",
       "      <td>-0.000305</td>\n",
       "    </tr>\n",
       "    <tr>\n",
       "      <th>34979</th>\n",
       "      <td>3.4979</td>\n",
       "      <td>-61.767578</td>\n",
       "      <td>-40.344238</td>\n",
       "      <td>0.000305</td>\n",
       "    </tr>\n",
       "    <tr>\n",
       "      <th>34980</th>\n",
       "      <td>3.4980</td>\n",
       "      <td>-58.959961</td>\n",
       "      <td>-40.344238</td>\n",
       "      <td>0.000000</td>\n",
       "    </tr>\n",
       "    <tr>\n",
       "      <th>34981</th>\n",
       "      <td>3.4981</td>\n",
       "      <td>-52.246094</td>\n",
       "      <td>-40.283203</td>\n",
       "      <td>0.000305</td>\n",
       "    </tr>\n",
       "    <tr>\n",
       "      <th>34982</th>\n",
       "      <td>3.4982</td>\n",
       "      <td>-59.692383</td>\n",
       "      <td>-40.161133</td>\n",
       "      <td>0.000305</td>\n",
       "    </tr>\n",
       "    <tr>\n",
       "      <th>34983</th>\n",
       "      <td>3.4983</td>\n",
       "      <td>-58.715820</td>\n",
       "      <td>-40.313721</td>\n",
       "      <td>0.000305</td>\n",
       "    </tr>\n",
       "    <tr>\n",
       "      <th>34984</th>\n",
       "      <td>3.4984</td>\n",
       "      <td>-54.443359</td>\n",
       "      <td>-40.313721</td>\n",
       "      <td>0.000000</td>\n",
       "    </tr>\n",
       "    <tr>\n",
       "      <th>34985</th>\n",
       "      <td>3.4985</td>\n",
       "      <td>-62.011719</td>\n",
       "      <td>-40.374756</td>\n",
       "      <td>-0.000610</td>\n",
       "    </tr>\n",
       "    <tr>\n",
       "      <th>34986</th>\n",
       "      <td>3.4986</td>\n",
       "      <td>-58.227539</td>\n",
       "      <td>-40.252686</td>\n",
       "      <td>-0.000305</td>\n",
       "    </tr>\n",
       "    <tr>\n",
       "      <th>34987</th>\n",
       "      <td>3.4987</td>\n",
       "      <td>-60.546875</td>\n",
       "      <td>-40.374756</td>\n",
       "      <td>0.000000</td>\n",
       "    </tr>\n",
       "    <tr>\n",
       "      <th>34988</th>\n",
       "      <td>3.4988</td>\n",
       "      <td>-60.791016</td>\n",
       "      <td>-40.313721</td>\n",
       "      <td>-0.000610</td>\n",
       "    </tr>\n",
       "    <tr>\n",
       "      <th>34989</th>\n",
       "      <td>3.4989</td>\n",
       "      <td>-56.884766</td>\n",
       "      <td>-40.222168</td>\n",
       "      <td>0.000305</td>\n",
       "    </tr>\n",
       "    <tr>\n",
       "      <th>34990</th>\n",
       "      <td>3.4990</td>\n",
       "      <td>-57.373047</td>\n",
       "      <td>-40.374756</td>\n",
       "      <td>-0.000305</td>\n",
       "    </tr>\n",
       "    <tr>\n",
       "      <th>34991</th>\n",
       "      <td>3.4991</td>\n",
       "      <td>-58.105469</td>\n",
       "      <td>-40.191650</td>\n",
       "      <td>0.000305</td>\n",
       "    </tr>\n",
       "    <tr>\n",
       "      <th>34992</th>\n",
       "      <td>3.4992</td>\n",
       "      <td>-58.227539</td>\n",
       "      <td>-40.374756</td>\n",
       "      <td>-0.000610</td>\n",
       "    </tr>\n",
       "    <tr>\n",
       "      <th>34993</th>\n",
       "      <td>3.4993</td>\n",
       "      <td>-59.814453</td>\n",
       "      <td>-40.435791</td>\n",
       "      <td>-0.000305</td>\n",
       "    </tr>\n",
       "    <tr>\n",
       "      <th>34994</th>\n",
       "      <td>3.4994</td>\n",
       "      <td>-56.518555</td>\n",
       "      <td>-40.191650</td>\n",
       "      <td>-0.000305</td>\n",
       "    </tr>\n",
       "    <tr>\n",
       "      <th>34995</th>\n",
       "      <td>3.4995</td>\n",
       "      <td>-56.640625</td>\n",
       "      <td>-40.283203</td>\n",
       "      <td>0.000305</td>\n",
       "    </tr>\n",
       "    <tr>\n",
       "      <th>34996</th>\n",
       "      <td>3.4996</td>\n",
       "      <td>-56.030273</td>\n",
       "      <td>-40.283203</td>\n",
       "      <td>-0.000305</td>\n",
       "    </tr>\n",
       "    <tr>\n",
       "      <th>34997</th>\n",
       "      <td>3.4997</td>\n",
       "      <td>-54.687500</td>\n",
       "      <td>-40.252686</td>\n",
       "      <td>0.000000</td>\n",
       "    </tr>\n",
       "    <tr>\n",
       "      <th>34998</th>\n",
       "      <td>3.4998</td>\n",
       "      <td>-59.082031</td>\n",
       "      <td>-40.374756</td>\n",
       "      <td>0.000305</td>\n",
       "    </tr>\n",
       "    <tr>\n",
       "      <th>34999</th>\n",
       "      <td>3.4999</td>\n",
       "      <td>-60.791016</td>\n",
       "      <td>-40.405273</td>\n",
       "      <td>-0.000305</td>\n",
       "    </tr>\n",
       "    <tr>\n",
       "      <th>35000</th>\n",
       "      <td>3.5000</td>\n",
       "      <td>-60.668945</td>\n",
       "      <td>-40.344238</td>\n",
       "      <td>-0.000305</td>\n",
       "    </tr>\n",
       "  </tbody>\n",
       "</table>\n",
       "<p>10001 rows × 4 columns</p>\n",
       "</div>"
      ],
      "text/plain": [
       "         Time    Primary  Secondary       LED\n",
       "25000  2.5000 -61.279297 -40.405273  0.000000\n",
       "25001  2.5001 -55.053711 -40.374756 -0.000305\n",
       "25002  2.5002 -53.100586 -40.344238  0.000000\n",
       "25003  2.5003 -57.495117 -40.374756  0.000000\n",
       "25004  2.5004 -59.082031 -40.252686  0.000000\n",
       "25005  2.5005 -58.959961 -40.222168 -0.000305\n",
       "25006  2.5006 -56.884766 -40.374756  0.000000\n",
       "25007  2.5007 -59.204102 -40.435791 -0.000305\n",
       "25008  2.5008 -57.250977 -40.344238  0.000305\n",
       "25009  2.5009 -55.786133 -40.405273  0.000000\n",
       "25010  2.5010 -56.274414 -40.313721  0.000000\n",
       "25011  2.5011 -56.030273 -40.283203  0.000000\n",
       "25012  2.5012 -55.664062 -40.374756 -0.000610\n",
       "25013  2.5013 -55.175781 -40.374756  0.000305\n",
       "25014  2.5014 -58.227539 -40.344238  0.000305\n",
       "25015  2.5015 -58.105469 -40.344238 -0.000305\n",
       "25016  2.5016 -57.250977 -40.252686  0.000305\n",
       "25017  2.5017 -56.518555 -40.283203  0.000305\n",
       "25018  2.5018 -57.373047 -40.405273  0.000000\n",
       "25019  2.5019 -56.762695 -40.435791  0.000305\n",
       "25020  2.5020 -62.255859 -40.374756  0.000000\n",
       "25021  2.5021 -64.453125 -40.344238 -0.000305\n",
       "25022  2.5022 -50.659180 -40.252686  0.000000\n",
       "25023  2.5023 -58.715820 -40.405273 -0.000305\n",
       "25024  2.5024 -53.955078 -40.374756 -0.000305\n",
       "25025  2.5025 -57.006836 -40.344238  0.000000\n",
       "25026  2.5026 -55.664062 -40.435791  0.000610\n",
       "25027  2.5027 -55.175781 -40.313721 -0.000305\n",
       "25028  2.5028 -53.100586 -40.283203 -0.000305\n",
       "25029  2.5029 -55.297852 -40.283203  0.000000\n",
       "...       ...        ...        ...       ...\n",
       "34971  3.4971 -61.889648 -40.344238  0.000610\n",
       "34972  3.4972 -61.279297 -40.313721 -0.000305\n",
       "34973  3.4973 -56.396484 -40.313721  0.000000\n",
       "34974  3.4974 -62.133789 -40.344238  0.000000\n",
       "34975  3.4975 -62.377930 -40.252686 -0.000305\n",
       "34976  3.4976 -64.331055 -40.313721 -0.000305\n",
       "34977  3.4977 -55.541992 -40.313721 -0.000305\n",
       "34978  3.4978 -54.565430 -40.405273 -0.000305\n",
       "34979  3.4979 -61.767578 -40.344238  0.000305\n",
       "34980  3.4980 -58.959961 -40.344238  0.000000\n",
       "34981  3.4981 -52.246094 -40.283203  0.000305\n",
       "34982  3.4982 -59.692383 -40.161133  0.000305\n",
       "34983  3.4983 -58.715820 -40.313721  0.000305\n",
       "34984  3.4984 -54.443359 -40.313721  0.000000\n",
       "34985  3.4985 -62.011719 -40.374756 -0.000610\n",
       "34986  3.4986 -58.227539 -40.252686 -0.000305\n",
       "34987  3.4987 -60.546875 -40.374756  0.000000\n",
       "34988  3.4988 -60.791016 -40.313721 -0.000610\n",
       "34989  3.4989 -56.884766 -40.222168  0.000305\n",
       "34990  3.4990 -57.373047 -40.374756 -0.000305\n",
       "34991  3.4991 -58.105469 -40.191650  0.000305\n",
       "34992  3.4992 -58.227539 -40.374756 -0.000610\n",
       "34993  3.4993 -59.814453 -40.435791 -0.000305\n",
       "34994  3.4994 -56.518555 -40.191650 -0.000305\n",
       "34995  3.4995 -56.640625 -40.283203  0.000305\n",
       "34996  3.4996 -56.030273 -40.283203 -0.000305\n",
       "34997  3.4997 -54.687500 -40.252686  0.000000\n",
       "34998  3.4998 -59.082031 -40.374756  0.000305\n",
       "34999  3.4999 -60.791016 -40.405273 -0.000305\n",
       "35000  3.5000 -60.668945 -40.344238 -0.000305\n",
       "\n",
       "[10001 rows x 4 columns]"
      ]
     },
     "execution_count": 10,
     "metadata": {},
     "output_type": "execute_result"
    }
   ],
   "source": [
    "start = 2.5\n",
    "end = 3.5\n",
    "df[(df.Time >= start) & (df.Time <= end)]"
   ]
  },
  {
   "cell_type": "code",
   "execution_count": 4,
   "metadata": {
    "collapsed": false
   },
   "outputs": [
    {
     "data": {
      "text/plain": [
       "[<matplotlib.lines.Line2D at 0x7fecb5926320>]"
      ]
     },
     "execution_count": 4,
     "metadata": {},
     "output_type": "execute_result"
    },
    {
     "data": {
      "image/png": "[encoded data removed]",
      "text/plain": [
       "<matplotlib.figure.Figure at 0x7fecb59b0ac8>"
      ]
     },
     "metadata": {},
     "output_type": "display_data"
    }
   ],
   "source": [
    "import matplotlib.pyplot as plt\n",
    "%matplotlib inline\n",
    "\n",
    "start = 3.5\n",
    "end = 2.5\n",
    "sub_df = df[(df.Time >= start) & (df.Time <= end)]\n",
    "plt.plot(sub_df.Time, sub_df.Primary)"
   ]
  },
  {
   "cell_type": "markdown",
   "metadata": {},
   "source": [
    "** Simple example: let's baseline a trace **"
   ]
  },
  {
   "cell_type": "code",
   "execution_count": 68,
   "metadata": {
    "collapsed": false
   },
   "outputs": [
    {
     "data": {
      "text/plain": [
       "(-250, 250)"
      ]
     },
     "execution_count": 68,
     "metadata": {},
     "output_type": "execute_result"
    },
    {
     "data": {
      "image/png": "[encoded data removed]",
      "text/plain": [
       "<matplotlib.figure.Figure at 0x7fac6a7260b8>"
      ]
     },
     "metadata": {},
     "output_type": "display_data"
    }
   ],
   "source": [
    "plt.plot(df.Time, df.Primary)\n",
    "plt.ylim(-250, 250)"
   ]
  },
  {
   "cell_type": "code",
   "execution_count": 21,
   "metadata": {
    "collapsed": false
   },
   "outputs": [
    {
     "data": {
      "text/plain": [
       "-55.34495892628405"
      ]
     },
     "execution_count": 21,
     "metadata": {},
     "output_type": "execute_result"
    }
   ],
   "source": [
    "start = 0\n",
    "end = 0.4\n",
    "sub_df = df[(df.Time >= start) & (df.Time <= end)]\n",
    "avg = sub_df.Primary.mean()\n",
    "avg"
   ]
  },
  {
   "cell_type": "code",
   "execution_count": 27,
   "metadata": {
    "collapsed": false
   },
   "outputs": [
    {
     "data": {
      "text/plain": [
       "(-250, 250)"
      ]
     },
     "execution_count": 27,
     "metadata": {},
     "output_type": "execute_result"
    },
    {
     "data": {
      "image/png": "[encoded data removed]",
      "text/plain": [
       "<matplotlib.figure.Figure at 0x7fbe824289b0>"
      ]
     },
     "metadata": {},
     "output_type": "display_data"
    }
   ],
   "source": [
    "new_df = df.copy()\n",
    "new_df['Primary'] -= avg\n",
    "plt.plot(new_df.Time, new_df.Primary)\n",
    "plt.ylim(-250, 250)"
   ]
  },
  {
   "cell_type": "code",
   "execution_count": 5,
   "metadata": {
    "collapsed": false
   },
   "outputs": [
    {
     "data": {
      "text/plain": [
       "(-250, 250)"
      ]
     },
     "execution_count": 5,
     "metadata": {},
     "output_type": "execute_result"
    },
    {
     "data": {
      "image/png": "[encoded data removed]",
      "text/plain": [
       "<matplotlib.figure.Figure at 0x7fecb59692e8>"
      ]
     },
     "metadata": {},
     "output_type": "display_data"
    }
   ],
   "source": [
    "def baseline(df, data_column, time_column, start_time, end_time):\n",
    "    \"\"\"Baseline trace by subtracting average of region defined by\n",
    "    start_time and end_time from data_column\"\"\"\n",
    "    new_df = df.copy()\n",
    "    #select region between start and end time\n",
    "    sub_df = new_df[(new_df[time_column] >= start_time) &\n",
    "                    (new_df[time_column] <= end_time)]\n",
    "    \n",
    "    #average the data column\n",
    "    avg = sub_df[data_column].mean()\n",
    "    \n",
    "    #return the new df with avg subtract from data column\n",
    "    \n",
    "    new_df[data_column] -= avg\n",
    "    \n",
    "    return new_df\n",
    "\n",
    "df3 = baseline(df, \"Primary\", \"Time\", 0.0, 0.4)\n",
    "plt.plot(df.Time, df.Primary, 'k')\n",
    "plt.plot(df3.Time, df3.Primary, 'r')\n",
    "plt.ylim(-250, 250)"
   ]
  },
  {
   "cell_type": "markdown",
   "metadata": {},
   "source": [
    "** Multi-Dimensional Df **"
   ]
  },
  {
   "cell_type": "code",
   "execution_count": 6,
   "metadata": {
    "collapsed": false
   },
   "outputs": [
    {
     "data": {
      "text/plain": [
       "Index(['Sweep0001', 'Sweep0002', 'Sweep0003', 'Sweep0004', 'Sweep0005'], dtype='object', name='Sweep')"
      ]
     },
     "execution_count": 6,
     "metadata": {},
     "output_type": "execute_result"
    }
   ],
   "source": [
    "data_file = \"./multi_data.h5\"\n",
    "df = pd.read_hdf(data_file, 'voltage_recording')\n",
    "df.index.levels[0]"
   ]
  },
  {
   "cell_type": "code",
   "execution_count": 35,
   "metadata": {
    "collapsed": false
   },
   "outputs": [
    {
     "data": {
      "text/html": [
       "<div>\n",
       "<table border=\"1\" class=\"dataframe\">\n",
       "  <thead>\n",
       "    <tr style=\"text-align: right;\">\n",
       "      <th></th>\n",
       "      <th>Time</th>\n",
       "      <th>Primary</th>\n",
       "    </tr>\n",
       "  </thead>\n",
       "  <tbody>\n",
       "    <tr>\n",
       "      <th>0</th>\n",
       "      <td>0.0000</td>\n",
       "      <td>-51.513672</td>\n",
       "    </tr>\n",
       "    <tr>\n",
       "      <th>1</th>\n",
       "      <td>0.0001</td>\n",
       "      <td>-60.058594</td>\n",
       "    </tr>\n",
       "    <tr>\n",
       "      <th>2</th>\n",
       "      <td>0.0002</td>\n",
       "      <td>-57.861328</td>\n",
       "    </tr>\n",
       "    <tr>\n",
       "      <th>3</th>\n",
       "      <td>0.0003</td>\n",
       "      <td>-57.739258</td>\n",
       "    </tr>\n",
       "    <tr>\n",
       "      <th>4</th>\n",
       "      <td>0.0004</td>\n",
       "      <td>-58.227539</td>\n",
       "    </tr>\n",
       "  </tbody>\n",
       "</table>\n",
       "</div>"
      ],
      "text/plain": [
       "     Time    Primary\n",
       "0  0.0000 -51.513672\n",
       "1  0.0001 -60.058594\n",
       "2  0.0002 -57.861328\n",
       "3  0.0003 -57.739258\n",
       "4  0.0004 -58.227539"
      ]
     },
     "execution_count": 35,
     "metadata": {},
     "output_type": "execute_result"
    }
   ],
   "source": [
    "df[['Time', 'Primary']].ix['Sweep0001'].head()"
   ]
  },
  {
   "cell_type": "code",
   "execution_count": 37,
   "metadata": {
    "collapsed": false
   },
   "outputs": [
    {
     "data": {
      "text/plain": [
       "(-250, 250)"
      ]
     },
     "execution_count": 37,
     "metadata": {},
     "output_type": "execute_result"
    },
    {
     "data": {
      "image/png": "[encoded data removed]",
      "text/plain": [
       "<matplotlib.figure.Figure at 0x7fbe7f0fb358>"
      ]
     },
     "metadata": {},
     "output_type": "display_data"
    }
   ],
   "source": [
    "for sweep in df.index.levels[0]:\n",
    "    plt.plot(df.Time.ix[sweep], df.Primary.ix[sweep])\n",
    "    \n",
    "plt.ylim(-250, 250)"
   ]
  },
  {
   "cell_type": "code",
   "execution_count": 60,
   "metadata": {
    "collapsed": false
   },
   "outputs": [
    {
     "data": {
      "text/plain": [
       "(-250, 250)"
      ]
     },
     "execution_count": 60,
     "metadata": {},
     "output_type": "execute_result"
    },
    {
     "data": {
      "image/png": "[encoded data removed]",
      "text/plain": [
       "<matplotlib.figure.Figure at 0x7fbe821e1e48>"
      ]
     },
     "metadata": {},
     "output_type": "display_data"
    }
   ],
   "source": [
    "temp_df = df.copy()\n",
    "temp_df = temp_df.groupby(level='Sweep').apply(baseline,\n",
    "                                               \"Primary\", \n",
    "                                               \"Time\", \n",
    "                                               0.0, \n",
    "                                               0.4)\n",
    "avg_df = temp_df.groupby(level=1).mean()\n",
    "plt.plot(avg_df.Time, avg_df.Primary)\n",
    "plt.ylim(-250, 250)"
   ]
  },
  {
   "cell_type": "code",
   "execution_count": 22,
   "metadata": {
    "collapsed": false
   },
   "outputs": [
    {
     "data": {
      "text/plain": [
       "(-250, 250)"
      ]
     },
     "execution_count": 22,
     "metadata": {},
     "output_type": "execute_result"
    },
    {
     "data": {
      "image/png": "[encoded data removed]",
      "text/plain": [
       "<matplotlib.figure.Figure at 0x7fecb58f9a90>"
      ]
     },
     "metadata": {},
     "output_type": "display_data"
    }
   ],
   "source": [
    "temp_df = df.copy()\n",
    "for sweep in temp_df.index.levels[0]:\n",
    "    bsl_df = baseline(temp_df.ix[sweep], \"Primary\", \"Time\", 0.0, 0.4)\n",
    "    temp_df.ix[sweep] = bsl_df.values\n",
    "    plt.plot(temp_df.Time.ix[sweep], temp_df.Primary.ix[sweep])\n",
    "\n",
    "plt.ylim(-250, 250)"
   ]
  }
 ],
 "metadata": {
  "kernelspec": {
   "display_name": "Python 3",
   "language": "python",
   "name": "python3"
  },
  "language_info": {
   "codemirror_mode": {
    "name": "ipython",
    "version": 3
   },
   "file_extension": ".py",
   "mimetype": "text/x-python",
   "name": "python",
   "nbconvert_exporter": "python",
   "pygments_lexer": "ipython3",
   "version": "3.5.1"
  }
 },
 "nbformat": 4,
 "nbformat_minor": 0
}
